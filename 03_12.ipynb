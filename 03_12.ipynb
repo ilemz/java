{
  "nbformat": 4,
  "nbformat_minor": 0,
  "metadata": {
    "colab": {
      "provenance": [],
      "authorship_tag": "ABX9TyOyPy4F/CvS4xFw/BL4Ga4G"
    },
    "kernelspec": {
      "name": "python3",
      "display_name": "Python 3"
    },
    "language_info": {
      "name": "python"
    }
  },
  "cells": [
    {
      "cell_type": "code",
      "execution_count": null,
      "metadata": {
        "colab": {
          "base_uri": "https://localhost:8080/"
        },
        "id": "o0bw9QD4NYeK",
        "outputId": "e16a34b0-6efc-4143-ea2f-e0bf4ede830a"
      },
      "outputs": [
        {
          "output_type": "stream",
          "name": "stdout",
          "text": [
            "합은 300\n"
          ]
        }
      ],
      "source": [
        "x=100\n",
        "y=200\n",
        "sum=x+y\n",
        "print(\"합은\", sum)"
      ]
    },
    {
      "cell_type": "code",
      "source": [
        "pie = 3.14\n",
        "r = 20\n",
        "m = pie*r*r\n",
        "print( m )"
      ],
      "metadata": {
        "colab": {
          "base_uri": "https://localhost:8080/"
        },
        "id": "VYMm6cmRUyH3",
        "outputId": "60d9c716-4acb-4962-c081-300a8e2409b6"
      },
      "execution_count": null,
      "outputs": [
        {
          "output_type": "stream",
          "name": "stdout",
          "text": [
            "1256.0\n"
          ]
        }
      ]
    },
    {
      "cell_type": "code",
      "source": [
        "type(12.30)"
      ],
      "metadata": {
        "colab": {
          "base_uri": "https://localhost:8080/"
        },
        "id": "T56W0dofWoZ4",
        "outputId": "33025e79-9d9f-4f10-bb3e-ea902a332d8a"
      },
      "execution_count": null,
      "outputs": [
        {
          "output_type": "execute_result",
          "data": {
            "text/plain": [
              "float"
            ]
          },
          "metadata": {},
          "execution_count": 3
        }
      ]
    },
    {
      "cell_type": "code",
      "source": [
        "type(\"hello\")"
      ],
      "metadata": {
        "colab": {
          "base_uri": "https://localhost:8080/"
        },
        "id": "3-sbgBGxWvEM",
        "outputId": "f92a841a-15f8-4380-9610-15b6fd1d055b"
      },
      "execution_count": null,
      "outputs": [
        {
          "output_type": "execute_result",
          "data": {
            "text/plain": [
              "str"
            ]
          },
          "metadata": {},
          "execution_count": 4
        }
      ]
    },
    {
      "cell_type": "code",
      "source": [
        "x = 3\n",
        "id(x)\n"
      ],
      "metadata": {
        "id": "_Nje3gQbWzop",
        "colab": {
          "base_uri": "https://localhost:8080/"
        },
        "outputId": "75487553-d7d1-47b8-ddaf-80e87d96087c"
      },
      "execution_count": null,
      "outputs": [
        {
          "output_type": "execute_result",
          "data": {
            "text/plain": [
              "139305265430832"
            ]
          },
          "metadata": {},
          "execution_count": 5
        }
      ]
    },
    {
      "cell_type": "code",
      "source": [
        "pie=3.14\n",
        "r=5\n",
        "h=10\n",
        "v=pie*(r**2)*10\n",
        "print(v)"
      ],
      "metadata": {
        "colab": {
          "base_uri": "https://localhost:8080/"
        },
        "id": "ZX1LIN7fdJlL",
        "outputId": "a64f183e-fd1b-45b7-cd4d-c4e181c54601"
      },
      "execution_count": null,
      "outputs": [
        {
          "output_type": "stream",
          "name": "stdout",
          "text": [
            "785.0\n"
          ]
        }
      ]
    },
    {
      "cell_type": "code",
      "source": [
        "price=12345\n",
        "tax=price*0.075\n",
        "tax=round(tax,2)\n",
        "print(tax)"
      ],
      "metadata": {
        "colab": {
          "base_uri": "https://localhost:8080/"
        },
        "id": "-TZpUUFPdN76",
        "outputId": "0dc4bafd-8474-4813-8001-87a5280e41a7"
      },
      "execution_count": null,
      "outputs": [
        {
          "output_type": "stream",
          "name": "stdout",
          "text": [
            "925.88\n"
          ]
        }
      ]
    },
    {
      "cell_type": "code",
      "source": [
        "x = 10\n",
        "y = 20\n",
        "sum = x + y\n",
        "sub = x - y\n",
        "mul = x * y\n",
        "ave = (x + y) / 2\n",
        "Ma = max(x, y)\n",
        "Mi = min(x, y)\n",
        "print(\"x : \", x)\n",
        "print(\"y : \", y)\n",
        "print(\"두 수의 합 : \", sum)\n",
        "print(\"두 수의 차 : \", sub)\n",
        "print(\"두 수의 곱 : \", mul)\n",
        "print(\"두 수의 평균 : \", ave)\n",
        "print(\"큰 수 : \", Ma)\n",
        "print(\"작은 수 : \", Mi)"
      ],
      "metadata": {
        "colab": {
          "base_uri": "https://localhost:8080/"
        },
        "id": "EQkwk2HOi2sy",
        "outputId": "ef928509-229d-494b-a8e9-0086bb82c072"
      },
      "execution_count": null,
      "outputs": [
        {
          "output_type": "stream",
          "name": "stdout",
          "text": [
            "x :  10\n",
            "y :  20\n",
            "두 수의 합 :  30\n",
            "두 수의 차 :  -10\n",
            "두 수의 곱 :  200\n",
            "두 수의 평균 :  15.0\n",
            "큰 수 :  20\n",
            "작은 수 :  10\n"
          ]
        }
      ]
    },
    {
      "cell_type": "code",
      "source": [
        "chick = 2\n",
        "pig = 3\n",
        "cow = 4\n",
        "c_leg = 2\n",
        "pc_leg = 4\n",
        "sum = (chick*c_leg) + (pig+cow)*pc_leg\n",
        "print(\"닭의 수 :\", chick)\n",
        "print(\"돼지의 수 :\", pig)\n",
        "print(\"소의 수 :\", cow)\n",
        "print(\"전체 다리의 수 :\", sum)"
      ],
      "metadata": {
        "colab": {
          "base_uri": "https://localhost:8080/"
        },
        "id": "gLZNSBFuqcZo",
        "outputId": "9b7fd83c-0360-4032-c494-4a1c556839ee"
      },
      "execution_count": null,
      "outputs": [
        {
          "output_type": "stream",
          "name": "stdout",
          "text": [
            "닭의 수 : 2\n",
            "돼지의 수 : 3\n",
            "소의 수 : 4\n",
            "전체 다리의 수 : 32\n"
          ]
        }
      ]
    },
    {
      "cell_type": "code",
      "source": [
        "f_length = int(input(\"삼각형의 첫 번째 변의 길이 : \"))\n",
        "s_length = int(input(\"삼각형의 두 번째 변의 길이 : \"))\n",
        "\n",
        "l_length = f_length + s_length - 1\n",
        "\n",
        "print(\"삼각형의 나머지 변의 최대 길이 : \", l_length)"
      ],
      "metadata": {
        "colab": {
          "base_uri": "https://localhost:8080/"
        },
        "id": "wacd7aMPrkWw",
        "outputId": "8fdfb431-7d34-44a4-ddf1-95ccf05adacb"
      },
      "execution_count": null,
      "outputs": [
        {
          "output_type": "stream",
          "name": "stdout",
          "text": [
            "삼각형의 첫 번째 변의 길이 : 8\n",
            "삼각형의 두 번째 변의 길이 : 10\n",
            "삼각형의 나머지 변의 최대 길이 :  17\n"
          ]
        }
      ]
    },
    {
      "cell_type": "code",
      "source": [
        "time = int(input(\"시간을 입력하시오 : \"))\n",
        "minu = int(input(\"분을 입력하시오 : \"))\n",
        "\n",
        "sec = (time*60*60) + (minu*60)\n",
        "\n",
        "print(time,\" 시간 \",minu,\" 분은 \",sec,\" 초 입니다.\")"
      ],
      "metadata": {
        "colab": {
          "base_uri": "https://localhost:8080/"
        },
        "id": "hsJniYR9ry3P",
        "outputId": "438c9bf3-6100-426b-b199-5fbe5b80e462"
      },
      "execution_count": null,
      "outputs": [
        {
          "output_type": "stream",
          "name": "stdout",
          "text": [
            "시간을 입력하시오 : 1\n",
            "분을 입력하시오 : 3\n",
            "1  시간  3  분은  3780  초 입니다.\n"
          ]
        }
      ]
    },
    {
      "cell_type": "code",
      "source": [
        "f = int(input(\"화씨 온도를 입력하시오 : \"))\n",
        "c = (f-32.0)*(5/9)\n",
        "print(\"화씨 \", f, \"도는 섭씨 %.2f도에 해당합니다.\" %c)"
      ],
      "metadata": {
        "colab": {
          "base_uri": "https://localhost:8080/"
        },
        "id": "6MeJTT3YtN1g",
        "outputId": "a53580b7-4803-47ef-a56a-b5f8eb8cedcf"
      },
      "execution_count": null,
      "outputs": [
        {
          "output_type": "stream",
          "name": "stdout",
          "text": [
            "화씨 온도를 입력하시오 : 100\n",
            "화씨  100 도는 섭씨 37.78도에 해당합니다.\n"
          ]
        }
      ]
    },
    {
      "cell_type": "code",
      "source": [
        "food = int(input(\"음식 비용 : \"))\n",
        "tip = int(input(\"팁 비율 : \"))\n",
        "\n",
        "sum = food + (food*(tip/100))\n",
        "\n",
        "print(\"총액 : \", sum)"
      ],
      "metadata": {
        "colab": {
          "base_uri": "https://localhost:8080/"
        },
        "id": "f2vc1Q8PvAdv",
        "outputId": "b8248268-ff6c-47b4-ac5a-209326fec541"
      },
      "execution_count": null,
      "outputs": [
        {
          "output_type": "stream",
          "name": "stdout",
          "text": [
            "음식 비용 : 100\n",
            "팁 비율 : 10\n",
            "총액 :  110.0\n"
          ]
        }
      ]
    },
    {
      "cell_type": "code",
      "source": [],
      "metadata": {
        "id": "1vTS7NGWvsrf"
      },
      "execution_count": null,
      "outputs": []
    }
  ]
}