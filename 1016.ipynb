{
  "nbformat": 4,
  "nbformat_minor": 0,
  "metadata": {
    "colab": {
      "provenance": [],
      "authorship_tag": "ABX9TyOQg4uXmNARgLEttBoqAi6R"
    },
    "kernelspec": {
      "name": "python3",
      "display_name": "Python 3"
    },
    "language_info": {
      "name": "python"
    }
  },
  "cells": [
    {
      "cell_type": "code",
      "execution_count": null,
      "metadata": {
        "colab": {
          "base_uri": "https://localhost:8080/"
        },
        "id": "JXFLqCHm15H3",
        "outputId": "21419e74-8a50-4b80-9daf-5e8668c28598"
      },
      "outputs": [
        {
          "output_type": "stream",
          "name": "stdout",
          "text": [
            "10\n",
            "20\n",
            "30\n",
            "40\n",
            "50\n",
            "60\n",
            "70\n",
            "80\n",
            "90\n",
            "100\n",
            "end counting\n"
          ]
        }
      ],
      "source": [
        "n = 10\n",
        "while n <= 100 :\n",
        "  print(n)\n",
        "  n = n + 10\n",
        "print(\"end counting\")"
      ]
    },
    {
      "cell_type": "code",
      "source": [
        "n = 100\n",
        "while n <= 150 :\n",
        "  print(n)\n",
        "  n = n + 5\n",
        "print(\"end counting\")"
      ],
      "metadata": {
        "colab": {
          "base_uri": "https://localhost:8080/"
        },
        "id": "dBxVfbWX7_C_",
        "outputId": "a64440c9-3904-4f0c-d7a0-d0e67f059214"
      },
      "execution_count": null,
      "outputs": [
        {
          "output_type": "stream",
          "name": "stdout",
          "text": [
            "100\n",
            "105\n",
            "110\n",
            "115\n",
            "120\n",
            "125\n",
            "130\n",
            "135\n",
            "140\n",
            "145\n",
            "150\n",
            "end counting\n"
          ]
        }
      ]
    },
    {
      "cell_type": "code",
      "source": [
        "n = 0\n",
        "i = 1\n",
        "while i <= 100 :\n",
        "  print(n, i)\n",
        "  n = n + i\n",
        "  i = i + 1\n",
        "print(\"end counting\")"
      ],
      "metadata": {
        "colab": {
          "base_uri": "https://localhost:8080/"
        },
        "id": "tiwm6bpE8Sih",
        "outputId": "0b4d29e5-8663-4303-ad4d-59084c498375"
      },
      "execution_count": null,
      "outputs": [
        {
          "output_type": "stream",
          "name": "stdout",
          "text": [
            "0 1\n",
            "1 2\n",
            "3 3\n",
            "6 4\n",
            "10 5\n",
            "15 6\n",
            "21 7\n",
            "28 8\n",
            "36 9\n",
            "45 10\n",
            "55 11\n",
            "66 12\n",
            "78 13\n",
            "91 14\n",
            "105 15\n",
            "120 16\n",
            "136 17\n",
            "153 18\n",
            "171 19\n",
            "190 20\n",
            "210 21\n",
            "231 22\n",
            "253 23\n",
            "276 24\n",
            "300 25\n",
            "325 26\n",
            "351 27\n",
            "378 28\n",
            "406 29\n",
            "435 30\n",
            "465 31\n",
            "496 32\n",
            "528 33\n",
            "561 34\n",
            "595 35\n",
            "630 36\n",
            "666 37\n",
            "703 38\n",
            "741 39\n",
            "780 40\n",
            "820 41\n",
            "861 42\n",
            "903 43\n",
            "946 44\n",
            "990 45\n",
            "1035 46\n",
            "1081 47\n",
            "1128 48\n",
            "1176 49\n",
            "1225 50\n",
            "1275 51\n",
            "1326 52\n",
            "1378 53\n",
            "1431 54\n",
            "1485 55\n",
            "1540 56\n",
            "1596 57\n",
            "1653 58\n",
            "1711 59\n",
            "1770 60\n",
            "1830 61\n",
            "1891 62\n",
            "1953 63\n",
            "2016 64\n",
            "2080 65\n",
            "2145 66\n",
            "2211 67\n",
            "2278 68\n",
            "2346 69\n",
            "2415 70\n",
            "2485 71\n",
            "2556 72\n",
            "2628 73\n",
            "2701 74\n",
            "2775 75\n",
            "2850 76\n",
            "2926 77\n",
            "3003 78\n",
            "3081 79\n",
            "3160 80\n",
            "3240 81\n",
            "3321 82\n",
            "3403 83\n",
            "3486 84\n",
            "3570 85\n",
            "3655 86\n",
            "3741 87\n",
            "3828 88\n",
            "3916 89\n",
            "4005 90\n",
            "4095 91\n",
            "4186 92\n",
            "4278 93\n",
            "4371 94\n",
            "4465 95\n",
            "4560 96\n",
            "4656 97\n",
            "4753 98\n",
            "4851 99\n",
            "4950 100\n",
            "end counting\n"
          ]
        }
      ]
    },
    {
      "cell_type": "code",
      "source": [
        "import time\n",
        "n = 1\n",
        "while n <= 10:\n",
        "  print(n)\n",
        "  n = n + 1\n",
        "  time.sleep(1)\n",
        "print(\"end counting\")"
      ],
      "metadata": {
        "colab": {
          "base_uri": "https://localhost:8080/"
        },
        "id": "5BINwYk-7eQ5",
        "outputId": "4131873a-7424-452f-fb00-e92bdd1143ca"
      },
      "execution_count": null,
      "outputs": [
        {
          "output_type": "stream",
          "name": "stdout",
          "text": [
            "1\n",
            "2\n",
            "3\n",
            "4\n",
            "5\n",
            "6\n",
            "7\n",
            "8\n",
            "9\n",
            "10\n",
            "end counting\n"
          ]
        }
      ]
    },
    {
      "cell_type": "code",
      "source": [
        "n = int(input(\"정수 입력 : \"))\n",
        "i = 1\n",
        "\n",
        "print(\"구구단 %d단\" %n)\n",
        "\n",
        "while i <= 9 :\n",
        "  print(\"%d x %d = %d\" %(n, i, n*i))\n",
        "  i += 1"
      ],
      "metadata": {
        "colab": {
          "base_uri": "https://localhost:8080/"
        },
        "id": "-kwYy2af9lJg",
        "outputId": "b3690d4e-7018-4817-9bf0-a10e651014a5"
      },
      "execution_count": null,
      "outputs": [
        {
          "output_type": "stream",
          "name": "stdout",
          "text": [
            "정수 입력 : 3\n",
            "구구단 3단\n",
            "3 x 1 = 3\n",
            "3 x 2 = 6\n",
            "3 x 3 = 9\n",
            "3 x 4 = 12\n",
            "3 x 5 = 15\n",
            "3 x 6 = 18\n",
            "3 x 7 = 21\n",
            "3 x 8 = 24\n",
            "3 x 9 = 27\n"
          ]
        }
      ]
    },
    {
      "cell_type": "code",
      "source": [
        "n = int(input(\"정수 입력 (2 ~ 9) : \"))\n",
        "i = 1\n",
        "\n",
        "if (n >= 2 and n <= 9) :\n",
        "  print(\"구구단 %d단\" %n)\n",
        "\n",
        "  while i <= 9 :\n",
        "    print(\"%d x %d = %d\" %(n, i, n*i))\n",
        "    i += 1\n",
        "\n",
        "else :\n",
        "  print(\"잘못된 값입니다.\")"
      ],
      "metadata": {
        "colab": {
          "base_uri": "https://localhost:8080/"
        },
        "id": "PnQQaWBe-Xgq",
        "outputId": "23269140-fcfc-444b-9a39-7ffe0f26671b"
      },
      "execution_count": null,
      "outputs": [
        {
          "output_type": "stream",
          "name": "stdout",
          "text": [
            "정수 입력 (2 ~ 9) : 3\n",
            "구구단 3단\n",
            "3 x 1 = 3\n",
            "3 x 2 = 6\n",
            "3 x 3 = 9\n",
            "3 x 4 = 12\n",
            "3 x 5 = 15\n",
            "3 x 6 = 18\n",
            "3 x 7 = 21\n",
            "3 x 8 = 24\n",
            "3 x 9 = 27\n"
          ]
        }
      ]
    },
    {
      "cell_type": "code",
      "source": [
        "n = 30\n",
        "sum = 0\n",
        "\n",
        "while n <= 70 :\n",
        "  n += 1\n",
        "  if n % 3 == 0 :\n",
        "    sum += n\n",
        "  else :\n",
        "    sum = sum\n",
        "\n",
        "print(sum)"
      ],
      "metadata": {
        "colab": {
          "base_uri": "https://localhost:8080/"
        },
        "id": "me3LCaj7_N13",
        "outputId": "dd61999c-dc8d-40af-80f4-fbc883aed79a"
      },
      "execution_count": null,
      "outputs": [
        {
          "output_type": "stream",
          "name": "stdout",
          "text": [
            "663\n"
          ]
        }
      ]
    },
    {
      "cell_type": "code",
      "source": [
        "i = 0\n",
        "\n",
        "for i in range (50, 70, 3) :\n",
        "  print(i)"
      ],
      "metadata": {
        "colab": {
          "base_uri": "https://localhost:8080/"
        },
        "id": "19Fh3BqaBCIJ",
        "outputId": "d99ca6a9-a8f8-45b4-cbd0-9db6e70fd7d7"
      },
      "execution_count": null,
      "outputs": [
        {
          "output_type": "stream",
          "name": "stdout",
          "text": [
            "50\n",
            "53\n",
            "56\n",
            "59\n",
            "62\n",
            "65\n",
            "68\n"
          ]
        }
      ]
    },
    {
      "cell_type": "code",
      "source": [
        "i = 0\n",
        "\n",
        "for i in range (10, 0, -1) :\n",
        "  print(i)"
      ],
      "metadata": {
        "colab": {
          "base_uri": "https://localhost:8080/"
        },
        "id": "47puSstzCHu2",
        "outputId": "a55f1170-cacc-4c45-88b1-9997e78c037a"
      },
      "execution_count": null,
      "outputs": [
        {
          "output_type": "stream",
          "name": "stdout",
          "text": [
            "10\n",
            "9\n",
            "8\n",
            "7\n",
            "6\n",
            "5\n",
            "4\n",
            "3\n",
            "2\n",
            "1\n"
          ]
        }
      ]
    },
    {
      "cell_type": "code",
      "source": [
        "i = 0\n",
        "sum = 0\n",
        "\n",
        "for i in range (30, 70, 1) :\n",
        "  sum += i\n",
        "  print(sum)"
      ],
      "metadata": {
        "colab": {
          "base_uri": "https://localhost:8080/"
        },
        "id": "emCLoKBACqW-",
        "outputId": "cf7a3d5b-2030-40f9-8b7c-34f4b0336123"
      },
      "execution_count": null,
      "outputs": [
        {
          "output_type": "stream",
          "name": "stdout",
          "text": [
            "30\n",
            "61\n",
            "93\n",
            "126\n",
            "160\n",
            "195\n",
            "231\n",
            "268\n",
            "306\n",
            "345\n",
            "385\n",
            "426\n",
            "468\n",
            "511\n",
            "555\n",
            "600\n",
            "646\n",
            "693\n",
            "741\n",
            "790\n",
            "840\n",
            "891\n",
            "943\n",
            "996\n",
            "1050\n",
            "1105\n",
            "1161\n",
            "1218\n",
            "1276\n",
            "1335\n",
            "1395\n",
            "1456\n",
            "1518\n",
            "1581\n",
            "1645\n",
            "1710\n",
            "1776\n",
            "1843\n",
            "1911\n",
            "1980\n"
          ]
        }
      ]
    },
    {
      "cell_type": "code",
      "source": [
        "i = 0\n",
        "n = 5\n",
        "\n",
        "for i in range(1, 10, 1):\n",
        "  print(\"%d x %d = %d\" %(n, i, n * i))"
      ],
      "metadata": {
        "colab": {
          "base_uri": "https://localhost:8080/"
        },
        "id": "W0nAEgvwC2o9",
        "outputId": "8c3b9a05-d363-4881-d6c6-0150b3e25e36"
      },
      "execution_count": null,
      "outputs": [
        {
          "output_type": "stream",
          "name": "stdout",
          "text": [
            "5 x 1 = 5\n",
            "5 x 2 = 10\n",
            "5 x 3 = 15\n",
            "5 x 4 = 20\n",
            "5 x 5 = 25\n",
            "5 x 6 = 30\n",
            "5 x 7 = 35\n",
            "5 x 8 = 40\n",
            "5 x 9 = 45\n"
          ]
        }
      ]
    },
    {
      "cell_type": "code",
      "source": [
        "n = int(input(\"정수 입력 (2 ~ 9) : \"))\n",
        "i = 0\n",
        "\n",
        "if (n >= 2 and n <= 9) :\n",
        "  print(\"구구단 %d단\" %n)\n",
        "\n",
        "  for i in range (1, 10, 1):\n",
        "    print(\"%d x %d = %d\" %(n, i, n * i))\n",
        "\n",
        "else :\n",
        "  print(\"잘못된 값입니다.\")"
      ],
      "metadata": {
        "colab": {
          "base_uri": "https://localhost:8080/"
        },
        "id": "UDGAUiSZDTBs",
        "outputId": "ce7deccc-87a0-402e-d4d1-75d6dd944bfa"
      },
      "execution_count": null,
      "outputs": [
        {
          "output_type": "stream",
          "name": "stdout",
          "text": [
            "정수 입력 (2 ~ 9) : 1\n",
            "잘못된 값입니다.\n"
          ]
        }
      ]
    },
    {
      "cell_type": "code",
      "source": [
        "A = int(input(\"정수 A 입력 : \"))\n",
        "B = int(input(\"정수 B 입력 : \"))\n",
        "sum = 0\n",
        "\n",
        "for A in range (A, B + 1, 1) :\n",
        "  sum = A + B\n",
        "  print(sum)"
      ],
      "metadata": {
        "colab": {
          "base_uri": "https://localhost:8080/"
        },
        "id": "QOqTwC6FDvRD",
        "outputId": "0f2e868c-4fb5-4ecc-dd7f-9ca6a361c5b9"
      },
      "execution_count": null,
      "outputs": [
        {
          "output_type": "stream",
          "name": "stdout",
          "text": [
            "정수 A 입력 : 1\n",
            "정수 B 입력 : 5\n",
            "1 5 6\n",
            "2 5 7\n",
            "3 5 8\n",
            "4 5 9\n",
            "5 5 10\n"
          ]
        }
      ]
    },
    {
      "cell_type": "code",
      "source": [
        "n = 0\n",
        "sum = 0\n",
        "\n",
        "for n in range (100, 150, 1) :\n",
        "  n += 1\n",
        "  if n % 7 == 0 :\n",
        "    sum += n\n",
        "  else :\n",
        "    sum = sum\n",
        "\n",
        "print(sum)"
      ],
      "metadata": {
        "colab": {
          "base_uri": "https://localhost:8080/"
        },
        "id": "P5hqYNh-Ed3O",
        "outputId": "20fecdc7-c07d-4f01-ad00-196c7c18f11a"
      },
      "execution_count": null,
      "outputs": [
        {
          "output_type": "stream",
          "name": "stdout",
          "text": [
            "882\n"
          ]
        }
      ]
    },
    {
      "cell_type": "code",
      "source": [
        "n = 0\n",
        "sum = 0\n",
        "\n",
        "for n in range (50, 100, 1) :\n",
        "  n += 1\n",
        "  if n % 3 == 0 or n % 5 == 0:\n",
        "    sum += n\n",
        "  else :\n",
        "    sum = sum\n",
        "\n",
        "print(sum)"
      ],
      "metadata": {
        "colab": {
          "base_uri": "https://localhost:8080/"
        },
        "id": "5wIEptVLEvN1",
        "outputId": "7db9a194-a5cd-4826-b0f1-1d7912008e86"
      },
      "execution_count": null,
      "outputs": [
        {
          "output_type": "stream",
          "name": "stdout",
          "text": [
            "1825\n"
          ]
        }
      ]
    }
  ]
}